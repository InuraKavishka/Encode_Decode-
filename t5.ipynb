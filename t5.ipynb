{
 "cells": [
  {
   "cell_type": "code",
   "execution_count": 3,
   "metadata": {},
   "outputs": [],
   "source": [
    "import pandas as pd\n",
    "from sklearn.model_selection import train_test_split"
   ]
  },
  {
   "cell_type": "code",
   "execution_count": 4,
   "metadata": {},
   "outputs": [],
   "source": [
    "dataset = pd.read_excel(\"text_data.xlsx\")\n",
    "train_data,test_data = train_test_split(dataset,test_size=0.2,random_state=32)"
   ]
  },
  {
   "cell_type": "code",
   "execution_count": 5,
   "metadata": {},
   "outputs": [
    {
     "data": {
      "text/plain": [
       "(3613, 2)"
      ]
     },
     "execution_count": 5,
     "metadata": {},
     "output_type": "execute_result"
    }
   ],
   "source": [
    "train_data.shape"
   ]
  },
  {
   "cell_type": "code",
   "execution_count": 6,
   "metadata": {},
   "outputs": [
    {
     "data": {
      "text/plain": [
       "(904, 2)"
      ]
     },
     "execution_count": 6,
     "metadata": {},
     "output_type": "execute_result"
    }
   ],
   "source": [
    "test_data.shape"
   ]
  },
  {
   "cell_type": "code",
   "execution_count": 8,
   "metadata": {},
   "outputs": [
    {
     "data": {
      "text/html": [
       "<div>\n",
       "<style scoped>\n",
       "    .dataframe tbody tr th:only-of-type {\n",
       "        vertical-align: middle;\n",
       "    }\n",
       "\n",
       "    .dataframe tbody tr th {\n",
       "        vertical-align: top;\n",
       "    }\n",
       "\n",
       "    .dataframe thead th {\n",
       "        text-align: right;\n",
       "    }\n",
       "</style>\n",
       "<table border=\"1\" class=\"dataframe\">\n",
       "  <thead>\n",
       "    <tr style=\"text-align: right;\">\n",
       "      <th></th>\n",
       "      <th>summarytext</th>\n",
       "      <th>alltext</th>\n",
       "    </tr>\n",
       "  </thead>\n",
       "  <tbody>\n",
       "    <tr>\n",
       "      <th>0</th>\n",
       "      <td>The Administration of Union Territory Daman an...</td>\n",
       "      <td>The Daman and Diu administration on Wednesday ...</td>\n",
       "    </tr>\n",
       "    <tr>\n",
       "      <th>1</th>\n",
       "      <td>Malaika Arora slammed an Instagram user who tr...</td>\n",
       "      <td>From her special numbers to TV?appearances, Bo...</td>\n",
       "    </tr>\n",
       "    <tr>\n",
       "      <th>2</th>\n",
       "      <td>The Indira Gandhi Institute of Medical Science...</td>\n",
       "      <td>The Indira Gandhi Institute of Medical Science...</td>\n",
       "    </tr>\n",
       "    <tr>\n",
       "      <th>3</th>\n",
       "      <td>Lashkar-e-Taiba's Kashmir commander Abu Dujana...</td>\n",
       "      <td>Lashkar-e-Taiba's Kashmir commander Abu Dujana...</td>\n",
       "    </tr>\n",
       "    <tr>\n",
       "      <th>4</th>\n",
       "      <td>Hotels in Maharashtra will train their staff t...</td>\n",
       "      <td>Hotels in Mumbai and other Indian cities are t...</td>\n",
       "    </tr>\n",
       "  </tbody>\n",
       "</table>\n",
       "</div>"
      ],
      "text/plain": [
       "                                         summarytext  \\\n",
       "0  The Administration of Union Territory Daman an...   \n",
       "1  Malaika Arora slammed an Instagram user who tr...   \n",
       "2  The Indira Gandhi Institute of Medical Science...   \n",
       "3  Lashkar-e-Taiba's Kashmir commander Abu Dujana...   \n",
       "4  Hotels in Maharashtra will train their staff t...   \n",
       "\n",
       "                                             alltext  \n",
       "0  The Daman and Diu administration on Wednesday ...  \n",
       "1  From her special numbers to TV?appearances, Bo...  \n",
       "2  The Indira Gandhi Institute of Medical Science...  \n",
       "3  Lashkar-e-Taiba's Kashmir commander Abu Dujana...  \n",
       "4  Hotels in Mumbai and other Indian cities are t...  "
      ]
     },
     "execution_count": 8,
     "metadata": {},
     "output_type": "execute_result"
    }
   ],
   "source": [
    "dataset.head()"
   ]
  },
  {
   "cell_type": "code",
   "execution_count": 16,
   "metadata": {},
   "outputs": [
    {
     "data": {
      "text/plain": [
       "\"At least 16 people, including two senior police officers, were killed and nearly 40 were injured when a suicide bomber struck a public demonstration in Pakistan's Lahore city on Monday evening. DIG (Traffic) Syed Ahmed Mubeen and Senior Superintendent of Police Zahid Gondal were persuading protesters to clear way for traffic when a young man on a motorcycle came near them and triggered an explosion. At least 4 traffic constables were among the dead and among the injured are some mediapersons who were there to cover the protest. Also read: Pakistan: Second terror attack of the day, several casualties feared in Quetta blast A group of chemists and pharmaceutical manufacturers were protesting against the Paunjab government's new Drug Bill at Charing Cross on Mall Road in Lahore's heart. The spot was right outside the state Assembly building. The police officers had nearly persuaded the demonstrators to move to the sidewalk and allow the evening traffic to move, when the bomber struck. The powerful explosion shook the entire area and could be heard from as far as 10 km from the spot.Local reports say Pakistani Taliban's faction Jamaat-ul-Ahrar claimed responsibility for Lahore blast. Reports also say that police had received intelligence (image below) about two suicide bombers had entered the city of Lahore and the city was on alert. Jamaat ul Ahrar faction of the Pakistani Taliban was also responsible for the deadly Easter attack in Lahore. On 27 March 2016, Easter Sunday, at least 75 people were killed and over 340 were injured in a suicide bombing that hit the main gate of Gulshan-e-Iqbal Park, one of the largest parks in Lahore. Incidentally, the National Counter Terrorism Authority of Pakistan had issued a notification on February 7 warning probable terror attack in Lahore. The notification emphasised on enhanced vigil and security enforcement in the area. Jamaat-ul-Ahrar who claimed responsibility for the suicide bombing today have reportedly released the photo of the bomber. The terror outfit has reportedly called the blast 'Operation Ghazi' and its target-list include Pakistani intellectuals, military/intel folks, media and doctors. Jamaat-ul-Ahrar has released photo of the suicide bomber, an Afghan, of today's attack in #Lahore#Pakistan. pic.twitter.com/N9wA6Dl5BUTOP DEVELOPMENTS: \""
      ]
     },
     "execution_count": 16,
     "metadata": {},
     "output_type": "execute_result"
    }
   ],
   "source": [
    "example = train_data.iloc[0]\n",
    "example['alltext']"
   ]
  },
  {
   "cell_type": "code",
   "execution_count": 20,
   "metadata": {},
   "outputs": [
    {
     "ename": "AttributeError",
     "evalue": "'float' object has no attribute 'replace'",
     "output_type": "error",
     "traceback": [
      "\u001b[1;31m---------------------------------------------------------------------------\u001b[0m",
      "\u001b[1;31mAttributeError\u001b[0m                            Traceback (most recent call last)",
      "\u001b[1;32me:\\SLIIT\\darshana\\Question generator and QA\\Question generator\\ML\\New folder\\t5.ipynb Cell 7\u001b[0m in \u001b[0;36m<cell line: 5>\u001b[1;34m()\u001b[0m\n\u001b[0;32m      <a href='vscode-notebook-cell:/e%3A/SLIIT/darshana/Question%20generator%20and%20QA/Question%20generator/ML/New%20folder/t5.ipynb#ch0000001?line=5'>6</a>\u001b[0m example \u001b[39m=\u001b[39m tiny_dataset\u001b[39m.\u001b[39miloc[i]\n\u001b[0;32m      <a href='vscode-notebook-cell:/e%3A/SLIIT/darshana/Question%20generator%20and%20QA/Question%20generator/ML/New%20folder/t5.ipynb#ch0000001?line=6'>7</a>\u001b[0m text_example \u001b[39m=\u001b[39m example[\u001b[39m'\u001b[39m\u001b[39malltext\u001b[39m\u001b[39m'\u001b[39m]\n\u001b[1;32m----> <a href='vscode-notebook-cell:/e%3A/SLIIT/darshana/Question%20generator%20and%20QA/Question%20generator/ML/New%20folder/t5.ipynb#ch0000001?line=7'>8</a>\u001b[0m text_example \u001b[39m=\u001b[39m text_example\u001b[39m.\u001b[39;49mreplace(\u001b[39m'\u001b[39m\u001b[39m\\n\u001b[39;00m\u001b[39m'\u001b[39m,\u001b[39m'\u001b[39m\u001b[39m \u001b[39m\u001b[39m'\u001b[39m)\n\u001b[0;32m      <a href='vscode-notebook-cell:/e%3A/SLIIT/darshana/Question%20generator%20and%20QA/Question%20generator/ML/New%20folder/t5.ipynb#ch0000001?line=8'>9</a>\u001b[0m text_words \u001b[39m=\u001b[39m text_example\u001b[39m.\u001b[39msplit()\n\u001b[0;32m     <a href='vscode-notebook-cell:/e%3A/SLIIT/darshana/Question%20generator%20and%20QA/Question%20generator/ML/New%20folder/t5.ipynb#ch0000001?line=9'>10</a>\u001b[0m text_len\u001b[39m.\u001b[39mappend(\u001b[39mlen\u001b[39m(text_words))\n",
      "\u001b[1;31mAttributeError\u001b[0m: 'float' object has no attribute 'replace'"
     ]
    }
   ],
   "source": [
    "## Estimate Average Length of Text and Summary\n",
    "tiny_dataset = train_data\n",
    "text_len = []\n",
    "summary_len=[]\n",
    "for i in range(len(tiny_dataset)):\n",
    "    example = tiny_dataset.iloc[i]\n",
    "    text_example = example['alltext']\n",
    "    text_example = text_example.replace('\\n',' ')\n",
    "    text_words = text_example.split()\n",
    "    text_len.append(len(text_words))\n",
    "    summary_example = example['summarytext']\n",
    "    summary_example = summary_example.replace('\\n','')\n",
    "    summary_words = summary_example.split()\n",
    "    summary_len.append(len(summary_words))\n",
    "    \n",
    "import matplotlib.pyplot as plt\n",
    "%matplotlib inline\n",
    "plt.hist(text_len)\n",
    "plt.show()"
   ]
  },
  {
   "cell_type": "code",
   "execution_count": null,
   "metadata": {},
   "outputs": [],
   "source": []
  }
 ],
 "metadata": {
  "kernelspec": {
   "display_name": "Python 3.9.0 64-bit",
   "language": "python",
   "name": "python3"
  },
  "language_info": {
   "codemirror_mode": {
    "name": "ipython",
    "version": 3
   },
   "file_extension": ".py",
   "mimetype": "text/x-python",
   "name": "python",
   "nbconvert_exporter": "python",
   "pygments_lexer": "ipython3",
   "version": "3.9.0"
  },
  "orig_nbformat": 4,
  "vscode": {
   "interpreter": {
    "hash": "73b4e1c7efb4314fe175ee643bfc3a752e4ee08da6cb9bf1e76a4b2ea2073d3e"
   }
  }
 },
 "nbformat": 4,
 "nbformat_minor": 2
}
